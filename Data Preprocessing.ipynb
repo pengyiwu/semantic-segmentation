{
 "cells": [
  {
   "cell_type": "code",
   "execution_count": 2,
   "metadata": {},
   "outputs": [],
   "source": [
    "import cv2\n",
    "import numpy\n",
    "import csv\n",
    "import os"
   ]
  },
  {
   "cell_type": "markdown",
   "metadata": {},
   "source": [
    "# Training data preprocessing"
   ]
  },
  {
   "cell_type": "code",
   "execution_count": 2,
   "metadata": {},
   "outputs": [],
   "source": [
    "train_ds_dir = \"/hdd/ssd_2/dataset/segmentation/training/\"\n",
    "gt_ds_dir = \"/hdd/ssd_2/dataset/segmentation/training_gt/\"\n",
    "cities = os.listdir(train_ds_dir)\n",
    "cities.sort()\n",
    "\n",
    "master = []"
   ]
  },
  {
   "cell_type": "code",
   "execution_count": 3,
   "metadata": {},
   "outputs": [],
   "source": [
    "for i in range(len(cities)):\n",
    "    \n",
    "    imgs = os.listdir(train_ds_dir + cities[i])\n",
    "    imgs.sort()\n",
    "    \n",
    "    paths = os.listdir(gt_ds_dir + cities[i])\n",
    "    paths.sort()\n",
    "    \n",
    "    gts = []\n",
    "    \n",
    "    for path in paths:\n",
    "        if \"labelIds\" in path:\n",
    "            gts.append(path)\n",
    "\n",
    "    assert len(imgs) == len(gts)\n",
    "\n",
    "    for j in range(len(imgs)):\n",
    "        row = []\n",
    "        row.append(train_ds_dir + cities[i] + \"/\" + imgs[j])\n",
    "        row.append(gt_ds_dir + cities[i] + \"/\" + gts[j])\n",
    "        master.append(row)"
   ]
  },
  {
   "cell_type": "code",
   "execution_count": 4,
   "metadata": {},
   "outputs": [
    {
     "data": {
      "text/plain": [
       "['/hdd/ssd_2/dataset/segmentation/training/aachen/aachen_000000_000019_leftImg8bit.png',\n",
       " '/hdd/ssd_2/dataset/segmentation/training_gt/aachen/aachen_000000_000019_gtFine_labelIds.png']"
      ]
     },
     "execution_count": 4,
     "metadata": {},
     "output_type": "execute_result"
    }
   ],
   "source": [
    "master[0]"
   ]
  },
  {
   "cell_type": "code",
   "execution_count": 5,
   "metadata": {
    "scrolled": false
   },
   "outputs": [
    {
     "data": {
      "text/plain": [
       "22973"
      ]
     },
     "execution_count": 5,
     "metadata": {},
     "output_type": "execute_result"
    }
   ],
   "source": [
    "len(master)"
   ]
  },
  {
   "cell_type": "code",
   "execution_count": 6,
   "metadata": {},
   "outputs": [
    {
     "name": "stdout",
     "output_type": "stream",
     "text": [
      "22973\n"
     ]
    }
   ],
   "source": [
    "new_master = []\n",
    "count = 0\n",
    "for row in master:\n",
    "    if os.path.isfile(row[0]) and os.path.isfile(row[1]):\n",
    "        count = count + 1\n",
    "        new_master.append(row)\n",
    "\n",
    "print count"
   ]
  },
  {
   "cell_type": "code",
   "execution_count": 7,
   "metadata": {},
   "outputs": [],
   "source": [
    "csvfile = open('labels.csv', 'w')\n",
    "csvwriter = csv.writer(csvfile)\n",
    "for item in master:\n",
    "    csvwriter.writerow(item)\n",
    "csvfile.close()"
   ]
  },
  {
   "cell_type": "markdown",
   "metadata": {},
   "source": [
    "# Validation data preprocessing"
   ]
  },
  {
   "cell_type": "code",
   "execution_count": 3,
   "metadata": {},
   "outputs": [],
   "source": [
    "train_ds_dir = \"/hdd/ssd_2/dataset/segmentation/val/\"\n",
    "gt_ds_dir = \"/hdd/ssd_2/dataset/segmentation/val_gt/\"\n",
    "cities = os.listdir(train_ds_dir)\n",
    "cities.sort()\n",
    "\n",
    "master = []"
   ]
  },
  {
   "cell_type": "code",
   "execution_count": null,
   "metadata": {},
   "outputs": [],
   "source": [
    "for i in range(len(cities)):\n",
    "    \n",
    "    imgs = os.listdir(train_ds_dir + cities[i])\n",
    "    imgs.sort()\n",
    "    \n",
    "    paths = os.listdir(gt_ds_dir + cities[i])\n",
    "    paths.sort()\n",
    "    \n",
    "    gts = []\n",
    "    \n",
    "    for path in paths:\n",
    "        if \"labelIds\" in path:\n",
    "            gts.append(path)\n",
    "\n",
    "    assert len(imgs) == len(gts)\n",
    "\n",
    "    for j in range(len(imgs)):\n",
    "        row = []\n",
    "        row.append(train_ds_dir + cities[i] + \"/\" + imgs[j])\n",
    "        row.append(gt_ds_dir + cities[i] + \"/\" + gts[j])\n",
    "        master.append(row)"
   ]
  }
 ],
 "metadata": {
  "kernelspec": {
   "display_name": "Python 2",
   "language": "python",
   "name": "python2"
  },
  "language_info": {
   "codemirror_mode": {
    "name": "ipython",
    "version": 2
   },
   "file_extension": ".py",
   "mimetype": "text/x-python",
   "name": "python",
   "nbconvert_exporter": "python",
   "pygments_lexer": "ipython2",
   "version": "2.7.15rc1"
  }
 },
 "nbformat": 4,
 "nbformat_minor": 2
}
